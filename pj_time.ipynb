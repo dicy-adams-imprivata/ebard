{
 "cells": [
  {
   "cell_type": "code",
   "execution_count": 1,
   "metadata": {},
   "outputs": [],
   "source": [
    "import pandas as pd\n",
    "import altair as alt\n",
    "import matplotlib.pyplot as plt\n",
    "from datetime import datetime\n",
    "import seaborn as sns\n",
    "from  matplotlib import pyplot\n",
    "import numpy as np\n",
    "pd.options.mode.chained_assignment = None  # default='warn'\n",
    "from scipy import stats\n"
   ]
  },
  {
   "cell_type": "code",
   "execution_count": 2,
   "metadata": {},
   "outputs": [],
   "source": [
    "pj_file = 'pj_time.csv'"
   ]
  },
  {
   "cell_type": "code",
   "execution_count": 3,
   "metadata": {},
   "outputs": [],
   "source": [
    "pj_data = pd.read_csv(pj_file, names=[\"EMPLOYEE\",\"DATE\", \"AFTER HOURS CLICKS\", \"HIRE DATE\", \"TERM DATE\", \"INDICATOR\"])"
   ]
  },
  {
   "cell_type": "code",
   "execution_count": 4,
   "metadata": {},
   "outputs": [],
   "source": [
    "pj_data['DATE']= pd.to_datetime(pj_data['DATE'])\n",
    "pj_data['TERM DATE']= pd.to_datetime(pj_data['TERM DATE'])\n",
    "pj_data[\"TERM DATE\"].fillna(datetime(2020, 11, 8), inplace=True)\n",
    "pj_data[\"DAYS FROM HIRE\"] = pd.to_datetime(pj_data[\"DATE\"]) - pd.to_datetime(pj_data[\"HIRE DATE\"])\n",
    "pj_data[\"DAYS FROM HIRE\"] = pj_data[\"DAYS FROM HIRE\"].dt.days\n",
    "\n",
    "pj_data[\"DAYS TO TERM\"] = pd.to_datetime(pj_data[\"TERM DATE\"]) - pd.to_datetime(pj_data[\"DATE\"])\n",
    "pj_data[\"DAYS TO TERM\"] = pj_data[\"DAYS TO TERM\"].dt.days\n",
    "\n",
    "#pj_data['SMOOTHED AFTER HOURS CLICKS'] = pj_data['AFTER HOURS CLICKS'].rolling(10).mean()"
   ]
  },
  {
   "cell_type": "code",
   "execution_count": 5,
   "metadata": {},
   "outputs": [],
   "source": [
    "pj_data = pj_data.loc[pj_data['DATE'] >= datetime(2019, 1, 1)] #cone did not use ebas before 2019"
   ]
  },
  {
   "cell_type": "code",
   "execution_count": 6,
   "metadata": {},
   "outputs": [],
   "source": [
    "neg_data = pj_data.loc[pj_data['INDICATOR'] == 0]\n",
    "pos_data = pj_data.loc[pj_data['INDICATOR'] == 1]"
   ]
  },
  {
   "cell_type": "code",
   "execution_count": 7,
   "metadata": {},
   "outputs": [
    {
     "name": "stdout",
     "output_type": "stream",
     "text": [
      "1387 8438\n"
     ]
    }
   ],
   "source": [
    "print(len(pos_data.groupby(['EMPLOYEE']).size()),len(neg_data.groupby(['EMPLOYEE']).size()))"
   ]
  },
  {
   "cell_type": "code",
   "execution_count": 8,
   "metadata": {},
   "outputs": [],
   "source": [
    "neg_avg_clicks = []\n",
    "for label, df in neg_data.groupby([\"EMPLOYEE\"]):\n",
    "    time_mask = (df['DATE'] >= '2020-01-01') & (df['DATE'] <= '2020-06-01')\n",
    "    \n",
    "    df_masked = df[time_mask]\n",
    "    \n",
    "    avg_pj_clicks = np.around(df_masked['AFTER HOURS CLICKS'].mean(), decimals=1)\n",
    "    if np.isnan(avg_pj_clicks):\n",
    "        continue\n",
    "    else:\n",
    "        neg_avg_clicks.append(avg_pj_clicks)"
   ]
  },
  {
   "cell_type": "code",
   "execution_count": 9,
   "metadata": {},
   "outputs": [
    {
     "data": {
      "text/plain": [
       "202.62634560906514"
      ]
     },
     "execution_count": 9,
     "metadata": {},
     "output_type": "execute_result"
    }
   ],
   "source": [
    "np.mean(neg_avg_clicks) #Average after hours clicks for employees NOT term"
   ]
  },
  {
   "cell_type": "code",
   "execution_count": 10,
   "metadata": {},
   "outputs": [
    {
     "data": {
      "text/plain": [
       "328.10423322422815"
      ]
     },
     "execution_count": 10,
     "metadata": {},
     "output_type": "execute_result"
    }
   ],
   "source": [
    "np.std(neg_avg_clicks)"
   ]
  },
  {
   "cell_type": "code",
   "execution_count": 11,
   "metadata": {},
   "outputs": [],
   "source": [
    "pos_avg_clicks_earlier = []\n",
    "pos_avg_clicks_recent = []\n",
    "for label, df in pos_data.groupby([\"EMPLOYEE\"]):\n",
    "    term_date = df[\"TERM DATE\"].iloc[0]\n",
    "    start_time = term_date -  pd.Timedelta('180 days')\n",
    "    middle_time = term_date -  pd.Timedelta('90 days')\n",
    "        \n",
    "    time_mask_earlier = (df['DATE'] >= start_time) & (df['DATE'] < middle_time)\n",
    "    time_mask_recent = (df['DATE'] >= middle_time) & (df['DATE'] <= term_date)\n",
    "    \n",
    "    df_masked_earlier = df[time_mask_earlier]\n",
    "    df_masked_recent = df[time_mask_recent]\n",
    "    \n",
    "    #print(df_masked_earlier['AFTER HOURS CLICKS'])\n",
    "    #print(df_masked_recent['AFTER HOURS CLICKS'])\n",
    "    \n",
    "    avg_pj_clicks_earlier = np.around(df_masked_earlier['AFTER HOURS CLICKS'].mean(), decimals=1)\n",
    "    if np.isnan(avg_pj_clicks_earlier):\n",
    "        continue\n",
    "    else: \n",
    "        pos_avg_clicks_earlier.append(avg_pj_clicks_earlier)\n",
    "    \n",
    "    avg_pj_clicks_recent = np.around(df_masked_recent['AFTER HOURS CLICKS'].mean(), decimals=1)\n",
    "    if np.isnan(avg_pj_clicks_recent):\n",
    "        pos_avg_clicks_recent.append(0)\n",
    "    else:\n",
    "        pos_avg_clicks_recent.append(avg_pj_clicks_recent)"
   ]
  },
  {
   "cell_type": "code",
   "execution_count": 13,
   "metadata": {},
   "outputs": [
    {
     "data": {
      "text/plain": [
       "201.19224489795917"
      ]
     },
     "execution_count": 13,
     "metadata": {},
     "output_type": "execute_result"
    }
   ],
   "source": [
    "np.mean(pos_avg_clicks_earlier) #avg after hours clicks for term employees 180-90 days before term"
   ]
  },
  {
   "cell_type": "code",
   "execution_count": 14,
   "metadata": {},
   "outputs": [
    {
     "data": {
      "text/plain": [
       "293.8191002548205"
      ]
     },
     "execution_count": 14,
     "metadata": {},
     "output_type": "execute_result"
    }
   ],
   "source": [
    "np.std(pos_avg_clicks_earlier)"
   ]
  },
  {
   "cell_type": "code",
   "execution_count": 15,
   "metadata": {},
   "outputs": [
    {
     "data": {
      "text/plain": [
       "194.12602040816327"
      ]
     },
     "execution_count": 15,
     "metadata": {},
     "output_type": "execute_result"
    }
   ],
   "source": [
    "np.mean(pos_avg_clicks_recent)  #avg after hours clicks for term employees 90-0 days before term"
   ]
  },
  {
   "cell_type": "code",
   "execution_count": 16,
   "metadata": {},
   "outputs": [
    {
     "data": {
      "text/plain": [
       "298.23892576816075"
      ]
     },
     "execution_count": 16,
     "metadata": {},
     "output_type": "execute_result"
    }
   ],
   "source": [
    "np.std(pos_avg_clicks_recent)"
   ]
  },
  {
   "cell_type": "code",
   "execution_count": 17,
   "metadata": {},
   "outputs": [
    {
     "data": {
      "image/png": "[encoded data removed]",
      "text/plain": [
       "<Figure size 432x288 with 1 Axes>"
      ]
     },
     "metadata": {
      "needs_background": "light"
     },
     "output_type": "display_data"
    }
   ],
   "source": [
    "bins = np.arange(0, 2000, 50) \n",
    "\n",
    "plt.xlim([-5, 1000])\n",
    "\n",
    "plt.hist(neg_avg_clicks, bins=bins, alpha=0.5)\n",
    "plt.title('After Hours Clicks For Employees NOT Term')\n",
    "#plt.xlabel('')\n",
    "plt.ylabel('Count')\n",
    "\n",
    "plt.show()"
   ]
  },
  {
   "cell_type": "code",
   "execution_count": 18,
   "metadata": {},
   "outputs": [
    {
     "data": {
      "image/png": "[encoded data removed]",
      "text/plain": [
       "<Figure size 432x288 with 1 Axes>"
      ]
     },
     "metadata": {
      "needs_background": "light"
     },
     "output_type": "display_data"
    }
   ],
   "source": [
    "bins = np.arange(0, 2000, 50) \n",
    "\n",
    "plt.xlim([-5, 1000])\n",
    "\n",
    "plt.hist(pos_avg_clicks_earlier, bins=bins, alpha=0.5)\n",
    "plt.title('After Hours Clicks 180-90 Days Before Term')\n",
    "#plt.xlabel('')\n",
    "plt.ylabel('Count')\n",
    "\n",
    "plt.show()"
   ]
  },
  {
   "cell_type": "code",
   "execution_count": 19,
   "metadata": {},
   "outputs": [
    {
     "data": {
      "image/png": "[encoded data removed]",
      "text/plain": [
       "<Figure size 432x288 with 1 Axes>"
      ]
     },
     "metadata": {
      "needs_background": "light"
     },
     "output_type": "display_data"
    }
   ],
   "source": [
    "bins = np.arange(0, 2000, 50)\n",
    "\n",
    "plt.xlim([-5, 1000])\n",
    "\n",
    "plt.hist(pos_avg_clicks_recent, bins=bins, alpha=0.5)\n",
    "plt.title('After Hours Clicks 90-0 Days Before Term')\n",
    "#plt.xlabel('')\n",
    "plt.ylabel('Count')\n",
    "\n",
    "plt.show()"
   ]
  },
  {
   "cell_type": "code",
   "execution_count": 20,
   "metadata": {},
   "outputs": [
    {
     "name": "stdout",
     "output_type": "stream",
     "text": [
      "t = 0.53\n",
      "p = 0.6\n"
     ]
    }
   ],
   "source": [
    "#t-test\n",
    "a = np.array(pos_avg_clicks_earlier)\n",
    "b = np.array(pos_avg_clicks_recent)\n",
    "\n",
    "N = len(a)\n",
    "var_a = a.var(ddof=1)\n",
    "var_b = b.var(ddof=1)\n",
    "s = np.sqrt((var_a + var_b)/2)\n",
    "\n",
    "t = np.around((a.mean() - b.mean())/(s*np.sqrt(2/N)), decimals=2)\n",
    "\n",
    "#Degrees of freedom\n",
    "df = 2*N - 2\n",
    "\n",
    "#p-value after comparison with the t \n",
    "p = np.around(1 - stats.t.cdf(t,df=df), decimals=2)\n",
    "\n",
    "print(\"t = \" + str(t))\n",
    "print(\"p = \" + str(2*p))"
   ]
  },
  {
   "cell_type": "code",
   "execution_count": null,
   "metadata": {},
   "outputs": [],
   "source": [
    "#def countX(lst, x): \n",
    "#    return lst.count(x)\n",
    "#countX(pos_avg_clicks_recent, 0)\n",
    "\n",
    "#neg_sample = neg_data[:2935]\n",
    "\n",
    "#pos_sample = pos_data[:1992]\n",
    "\n",
    "#sample_data = neg_sample.append(pos_sample)\n",
    "\n",
    "#frames = [neg_data, pos_data, ]\n",
    "\n",
    "#colors = {1: 'orange', 0: 'blue'}\n",
    "#fig, ax = plt.subplots(figsize=(10,8))\n",
    "#neg_data['AVG AFTER HOURS CLICKS'] = (neg_data['AFTER HOURS CLICKS'] - neg_data['AFTER HOURS CLICKS'].min())/(neg_data['AFTER HOURS CLICKS'].max()-neg_data['AFTER HOURS CLICKS'].min())\n",
    "#label = neg_data[\"INDICATOR\"].iloc[0]\n",
    "#neg_data.plot.scatter(x='DAYS TO TERM', y='AVG AFTER HOURS CLICKS', color=colors[0], ax=ax, label=label)\n",
    "#plt.legend(\"\",frameon=False)\n",
    "#ax.set_xlim(180, 0)\n",
    "#ax.set_ylim(0, .5)\n",
    "#ax.set_xlabel(\"DAYS TO TERM\")\n",
    "#ax.set_ylabel(\"MIN MAX NORMALIZED AFTER HOURS CLICKS\")\n",
    "#ax.set_title(\"NOT TERMINATED\")\n",
    "\n",
    "#colors = {1: 'orange', 0: 'blue'}\n",
    "#fig1, ax1 = plt.subplots(figsize=(10,8))\n",
    "#pos_data['AVG AFTER HOURS CLICKS'] = (pos_data['AFTER HOURS CLICKS'] - pos_data['AFTER HOURS CLICKS'].min())/(pos_data['AFTER HOURS CLICKS'].max()-pos_data['AFTER HOURS CLICKS'].min())\n",
    "#label = pos_data[\"INDICATOR\"].iloc[0]\n",
    "#pos_data.plot.scatter(x='DAYS TO TERM', y='AVG AFTER HOURS CLICKS', color=colors[1], ax=ax1, label=label)\n",
    "#plt.legend(\"\",frameon=False)\n",
    "#ax1.set_xlim(180, 0)\n",
    "#ax1.set_ylim(0, 0.5)\n",
    "#ax1.set_xlabel(\"DAYS TO TERM\")\n",
    "#ax1.set_ylabel(\"MIN MAX NORMALIZED AFTER HOURS CLICKS\")\n",
    "#ax1.set_title(\"TERMINATED\")\n",
    "\n",
    "#colors = {1: 'orange', 0: 'blue'}\n",
    "#fig, ax = plt.subplots(figsize=(10,8))\n",
    "#for label, df in sample_data.groupby([\"INDICATOR\"]):\n",
    "#    df['AFTER HOURS VARIANCE'] = (df['AFTER HOURS CLICKS']-df['AFTER HOURS CLICKS'].min())/(df['AFTER HOURS CLICKS'].max()-df['AFTER HOURS CLICKS'].min())\n",
    "#    df.plot.line(x=\"DAYS TO TERM\", y=\"AFTER HOURS VARIANCE\", color=colors[label], ax=ax, label=label)\n",
    "#plt.legend(title='INDICATOR', bbox_to_anchor=(1.05, 1), loc='upper left')\n",
    "#ax.set_ylim(0, 1)\n",
    "#ax.set_xlim(600, 0)\n",
    "#ax.set_ylabel(\"AFTER HOURS VARIANCE\")"
   ]
  }
 ],
 "metadata": {
  "kernelspec": {
   "display_name": "Python 3",
   "language": "python",
   "name": "python3"
  },
  "language_info": {
   "codemirror_mode": {
    "name": "ipython",
    "version": 3
   },
   "file_extension": ".py",
   "mimetype": "text/x-python",
   "name": "python",
   "nbconvert_exporter": "python",
   "pygments_lexer": "ipython3",
   "version": "3.7.7"
  }
 },
 "nbformat": 4,
 "nbformat_minor": 4
}
