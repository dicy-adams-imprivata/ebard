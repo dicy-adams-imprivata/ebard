{
 "cells": [
  {
   "cell_type": "code",
   "execution_count": 1,
   "metadata": {},
   "outputs": [],
   "source": [
    "import sklearn\n",
    "import pandas as pd\n",
    "import numpy as np\n",
    "import seaborn as sns\n",
    "import matplotlib.pyplot as plt\n",
    "from sklearn.preprocessing import StandardScaler, OneHotEncoder\n",
    "from sklearn.pipeline import Pipeline #preprocessing \n",
    "from imblearn.over_sampling import SMOTE\n",
    "from sklearn.impute import SimpleImputer\n",
    "from sklearn.compose import ColumnTransformer\n",
    "from sklearn.ensemble import GradientBoostingClassifier, RandomForestClassifier\n",
    "from sklearn.model_selection import cross_val_score\n",
    "from sklearn.metrics import confusion_matrix, classification_report, auc, roc_curve\n",
    "from imblearn.pipeline import Pipeline as pipe #model processed data\n"
   ]
  },
  {
   "cell_type": "code",
   "execution_count": 169,
   "metadata": {},
   "outputs": [],
   "source": [
    "pkl_path = 'cone_burnout_data2.pkl'"
   ]
  },
  {
   "cell_type": "code",
   "execution_count": 171,
   "metadata": {},
   "outputs": [],
   "source": [
    "df = pd.read_pickle(pkl_path)"
   ]
  },
  {
   "cell_type": "code",
   "execution_count": 172,
   "metadata": {},
   "outputs": [
    {
     "data": {
      "text/html": [
       "<div>\n",
       "<style scoped>\n",
       "    .dataframe tbody tr th:only-of-type {\n",
       "        vertical-align: middle;\n",
       "    }\n",
       "\n",
       "    .dataframe tbody tr th {\n",
       "        vertical-align: top;\n",
       "    }\n",
       "\n",
       "    .dataframe thead th {\n",
       "        text-align: right;\n",
       "    }\n",
       "</style>\n",
       "<table border=\"1\" class=\"dataframe\">\n",
       "  <thead>\n",
       "    <tr style=\"text-align: right;\">\n",
       "      <th></th>\n",
       "      <th>employee_obj_id</th>\n",
       "      <th>clicks_count</th>\n",
       "      <th>patients_accessed_count</th>\n",
       "      <th>after_hours_count</th>\n",
       "      <th>value</th>\n",
       "      <th>hire_date</th>\n",
       "      <th>term_date</th>\n",
       "      <th>indicator</th>\n",
       "    </tr>\n",
       "  </thead>\n",
       "  <tbody>\n",
       "    <tr>\n",
       "      <th>0</th>\n",
       "      <td>16</td>\n",
       "      <td>10544.0</td>\n",
       "      <td>832.0</td>\n",
       "      <td>622.0</td>\n",
       "      <td>MHC-CORE LAB</td>\n",
       "      <td>2015-12-27</td>\n",
       "      <td>None</td>\n",
       "      <td>0</td>\n",
       "    </tr>\n",
       "    <tr>\n",
       "      <th>1</th>\n",
       "      <td>60056</td>\n",
       "      <td>37.0</td>\n",
       "      <td>9.0</td>\n",
       "      <td>4.0</td>\n",
       "      <td>ARMC-SUPPLY CHAIN</td>\n",
       "      <td>2008-07-28</td>\n",
       "      <td>None</td>\n",
       "      <td>0</td>\n",
       "    </tr>\n",
       "    <tr>\n",
       "      <th>2</th>\n",
       "      <td>61660</td>\n",
       "      <td>5407.0</td>\n",
       "      <td>1806.0</td>\n",
       "      <td>666.0</td>\n",
       "      <td>SW-ITS-CLINICAL INFO SYS</td>\n",
       "      <td>2004-07-12</td>\n",
       "      <td>None</td>\n",
       "      <td>0</td>\n",
       "    </tr>\n",
       "    <tr>\n",
       "      <th>3</th>\n",
       "      <td>119083</td>\n",
       "      <td>191682.0</td>\n",
       "      <td>2552.0</td>\n",
       "      <td>1454.0</td>\n",
       "      <td>PSC-PIEDMONT SENIOR CARE</td>\n",
       "      <td>2017-01-09</td>\n",
       "      <td>None</td>\n",
       "      <td>0</td>\n",
       "    </tr>\n",
       "    <tr>\n",
       "      <th>4</th>\n",
       "      <td>119085</td>\n",
       "      <td>5504.0</td>\n",
       "      <td>352.0</td>\n",
       "      <td>151.0</td>\n",
       "      <td>PRIMARY CARE AT POMONA</td>\n",
       "      <td>2010-12-05</td>\n",
       "      <td>2019-04-10</td>\n",
       "      <td>1</td>\n",
       "    </tr>\n",
       "  </tbody>\n",
       "</table>\n",
       "</div>"
      ],
      "text/plain": [
       "   employee_obj_id  clicks_count  patients_accessed_count  after_hours_count  \\\n",
       "0               16       10544.0                    832.0              622.0   \n",
       "1            60056          37.0                      9.0                4.0   \n",
       "2            61660        5407.0                   1806.0              666.0   \n",
       "3           119083      191682.0                   2552.0             1454.0   \n",
       "4           119085        5504.0                    352.0              151.0   \n",
       "\n",
       "                      value   hire_date   term_date indicator  \n",
       "0              MHC-CORE LAB  2015-12-27        None         0  \n",
       "1         ARMC-SUPPLY CHAIN  2008-07-28        None         0  \n",
       "2  SW-ITS-CLINICAL INFO SYS  2004-07-12        None         0  \n",
       "3  PSC-PIEDMONT SENIOR CARE  2017-01-09        None         0  \n",
       "4    PRIMARY CARE AT POMONA  2010-12-05  2019-04-10         1  "
      ]
     },
     "execution_count": 172,
     "metadata": {},
     "output_type": "execute_result"
    }
   ],
   "source": [
    "df.head()"
   ]
  },
  {
   "cell_type": "code",
   "execution_count": 173,
   "metadata": {},
   "outputs": [],
   "source": [
    "df = df.drop(['value','hire_date','term_date'],axis=1)"
   ]
  },
  {
   "cell_type": "code",
   "execution_count": 174,
   "metadata": {},
   "outputs": [
    {
     "name": "stdout",
     "output_type": "stream",
     "text": [
      "0    15490\n",
      "1     4108\n",
      "Name: indicator, dtype: int64\n"
     ]
    }
   ],
   "source": [
    "y_check = df['indicator']\n",
    "y_check=y_check.astype('int')\n",
    "print(y_check.value_counts())"
   ]
  },
  {
   "cell_type": "code",
   "execution_count": 175,
   "metadata": {},
   "outputs": [],
   "source": [
    "train_df = df.sample(frac=0.7, random_state=1019)\n",
    "test_df = df.drop(train_df.index)"
   ]
  },
  {
   "cell_type": "code",
   "execution_count": 176,
   "metadata": {},
   "outputs": [],
   "source": [
    "true_y = train_df['indicator']\n",
    "test_y = test_df['indicator']"
   ]
  },
  {
   "cell_type": "code",
   "execution_count": 177,
   "metadata": {},
   "outputs": [],
   "source": [
    "true_y=true_y.astype('int')\n",
    "test_y=test_y.astype('int')"
   ]
  },
  {
   "cell_type": "code",
   "execution_count": 178,
   "metadata": {},
   "outputs": [],
   "source": [
    "train_X = train_df.drop(['employee_obj_id','indicator'],axis=1)\n",
    "test_X = test_df.drop(['employee_obj_id','indicator'],axis=1)"
   ]
  },
  {
   "cell_type": "code",
   "execution_count": 179,
   "metadata": {},
   "outputs": [],
   "source": [
    "train_X = train_X.rename({'patients_accessed_count': 'NUM_PATIENTS', 'value': 'DEPT', \n",
    "                          'clicks_count': 'CLICKS','after_hours_count': 'AFTER_HOURS'}, axis=1) \n",
    "test_X = test_X.rename({'patients_accessed_count': 'NUM_PATIENTS', 'value': 'DEPT',\n",
    "                        'clicks_count': 'CLICKS','after_hours_count': 'AFTER_HOURS'}, axis=1) "
   ]
  },
  {
   "cell_type": "code",
   "execution_count": 180,
   "metadata": {},
   "outputs": [
    {
     "data": {
      "text/html": [
       "<div>\n",
       "<style scoped>\n",
       "    .dataframe tbody tr th:only-of-type {\n",
       "        vertical-align: middle;\n",
       "    }\n",
       "\n",
       "    .dataframe tbody tr th {\n",
       "        vertical-align: top;\n",
       "    }\n",
       "\n",
       "    .dataframe thead th {\n",
       "        text-align: right;\n",
       "    }\n",
       "</style>\n",
       "<table border=\"1\" class=\"dataframe\">\n",
       "  <thead>\n",
       "    <tr style=\"text-align: right;\">\n",
       "      <th></th>\n",
       "      <th>CLICKS</th>\n",
       "      <th>NUM_PATIENTS</th>\n",
       "      <th>AFTER_HOURS</th>\n",
       "    </tr>\n",
       "  </thead>\n",
       "  <tbody>\n",
       "    <tr>\n",
       "      <th>5391</th>\n",
       "      <td>5766.0</td>\n",
       "      <td>577.0</td>\n",
       "      <td>369.0</td>\n",
       "    </tr>\n",
       "    <tr>\n",
       "      <th>15639</th>\n",
       "      <td>NaN</td>\n",
       "      <td>NaN</td>\n",
       "      <td>NaN</td>\n",
       "    </tr>\n",
       "    <tr>\n",
       "      <th>18185</th>\n",
       "      <td>NaN</td>\n",
       "      <td>NaN</td>\n",
       "      <td>NaN</td>\n",
       "    </tr>\n",
       "    <tr>\n",
       "      <th>15337</th>\n",
       "      <td>NaN</td>\n",
       "      <td>NaN</td>\n",
       "      <td>NaN</td>\n",
       "    </tr>\n",
       "    <tr>\n",
       "      <th>10761</th>\n",
       "      <td>NaN</td>\n",
       "      <td>NaN</td>\n",
       "      <td>NaN</td>\n",
       "    </tr>\n",
       "  </tbody>\n",
       "</table>\n",
       "</div>"
      ],
      "text/plain": [
       "       CLICKS  NUM_PATIENTS  AFTER_HOURS\n",
       "5391   5766.0         577.0        369.0\n",
       "15639     NaN           NaN          NaN\n",
       "18185     NaN           NaN          NaN\n",
       "15337     NaN           NaN          NaN\n",
       "10761     NaN           NaN          NaN"
      ]
     },
     "execution_count": 180,
     "metadata": {},
     "output_type": "execute_result"
    }
   ],
   "source": [
    "train_X.head()"
   ]
  },
  {
   "cell_type": "code",
   "execution_count": 181,
   "metadata": {},
   "outputs": [
    {
     "data": {
      "text/plain": [
       "0    10878\n",
       "1     2841\n",
       "Name: indicator, dtype: int64"
      ]
     },
     "execution_count": 181,
     "metadata": {},
     "output_type": "execute_result"
    }
   ],
   "source": [
    "true_y.value_counts()"
   ]
  },
  {
   "cell_type": "code",
   "execution_count": 182,
   "metadata": {},
   "outputs": [],
   "source": [
    "def transform_pipeline(categorical_features,numeric_features):\n",
    "    \n",
    "    numeric_transformer = Pipeline(steps=[\n",
    "        ('imputer', SimpleImputer(strategy='median')),\n",
    "        ('scaler', StandardScaler())])\n",
    "    \n",
    "    #categorical_transformer = Pipeline(steps=[\n",
    "    #    ('imputer', SimpleImputer(strategy='constant', fill_value='missing')),\n",
    "    #    ('onehot', OneHotEncoder(handle_unknown='ignore'))])    \n",
    "    \n",
    "    ct = ColumnTransformer(\n",
    "    transformers=[\n",
    "        ('num', numeric_transformer, numeric_features),])\n",
    "        #('cat', categorical_transformer, categorical_features)])  \n",
    "    \n",
    "    return ct  "
   ]
  },
  {
   "cell_type": "code",
   "execution_count": 183,
   "metadata": {},
   "outputs": [],
   "source": [
    "numerical_features = ['NUM_PATIENTS','CLICKS','AFTER_HOURS']\n",
    "categorical_features = ['DEPT']"
   ]
  },
  {
   "cell_type": "code",
   "execution_count": 184,
   "metadata": {},
   "outputs": [],
   "source": [
    "ct = transform_pipeline(categorical_features,numerical_features)"
   ]
  },
  {
   "cell_type": "code",
   "execution_count": 185,
   "metadata": {},
   "outputs": [],
   "source": [
    "#apply the transform \n",
    "X_train_trans = ct.fit_transform(train_X)\n",
    "X_test_trans = ct.transform(test_X)"
   ]
  },
  {
   "cell_type": "code",
   "execution_count": 186,
   "metadata": {},
   "outputs": [
    {
     "data": {
      "text/plain": [
       "array([[-0.67800153, -1.35082198, -0.69456393],\n",
       "       [-0.2006612 , -0.138728  , -0.19727179],\n",
       "       [-0.2006612 , -0.138728  , -0.19727179],\n",
       "       ...,\n",
       "       [-0.65796537,  0.11748802, -0.64334284],\n",
       "       [ 0.62237344, -0.94977835, -0.16196405],\n",
       "       [-0.2006612 , -0.138728  , -0.19727179]])"
      ]
     },
     "execution_count": 186,
     "metadata": {},
     "output_type": "execute_result"
    }
   ],
   "source": [
    "X_train_trans"
   ]
  },
  {
   "cell_type": "code",
   "execution_count": 187,
   "metadata": {},
   "outputs": [],
   "source": [
    "def ml_pipeline():\n",
    "    #smt_step = (\"smt\", SMOTE(sampling_strategy=.15,random_state=1019))\n",
    "    \n",
    "    ss_step = ('ss', StandardScaler(with_mean=False))\n",
    "\n",
    "    rfc_step = ('rfc',RandomForestClassifier())\n",
    "    #smt_step,\n",
    "    pipeline_steps = [ ss_step, rfc_step]\n",
    "    \n",
    "    ml_pipe = pipe(pipeline_steps)\n",
    "    \n",
    "    return ml_pipe"
   ]
  },
  {
   "cell_type": "code",
   "execution_count": 188,
   "metadata": {},
   "outputs": [],
   "source": [
    "ml_pipe = ml_pipeline()"
   ]
  },
  {
   "cell_type": "code",
   "execution_count": 189,
   "metadata": {},
   "outputs": [
    {
     "data": {
      "text/plain": [
       "Pipeline(steps=[('ss', StandardScaler(with_mean=False)),\n",
       "                ('rfc', RandomForestClassifier())])"
      ]
     },
     "execution_count": 189,
     "metadata": {},
     "output_type": "execute_result"
    }
   ],
   "source": [
    "#fit to train\n",
    "ml_pipe.fit(X_train_trans,true_y)"
   ]
  },
  {
   "cell_type": "code",
   "execution_count": 190,
   "metadata": {},
   "outputs": [],
   "source": [
    "#predict on test\n",
    "y_pred = ml_pipe.predict(X_test_trans)\n",
    "y_prob = ml_pipe.predict_proba(X_test_trans)[:,1]"
   ]
  },
  {
   "cell_type": "code",
   "execution_count": 191,
   "metadata": {},
   "outputs": [],
   "source": [
    "#metrics"
   ]
  },
  {
   "cell_type": "code",
   "execution_count": 192,
   "metadata": {},
   "outputs": [],
   "source": [
    "scores = cross_val_score(ml_pipe, X_train_trans, true_y, cv=5, scoring=\"roc_auc\")"
   ]
  },
  {
   "cell_type": "code",
   "execution_count": 193,
   "metadata": {},
   "outputs": [
    {
     "data": {
      "text/plain": [
       "array([0.63262479, 0.62442879, 0.63695338, 0.63118882, 0.63190262])"
      ]
     },
     "execution_count": 193,
     "metadata": {},
     "output_type": "execute_result"
    }
   ],
   "source": [
    "scores"
   ]
  },
  {
   "cell_type": "code",
   "execution_count": 194,
   "metadata": {},
   "outputs": [
    {
     "name": "stdout",
     "output_type": "stream",
     "text": [
      "              precision    recall  f1-score   support\n",
      "\n",
      "           0       0.80      0.99      0.88      4612\n",
      "           1       0.71      0.08      0.14      1267\n",
      "\n",
      "    accuracy                           0.79      5879\n",
      "   macro avg       0.75      0.53      0.51      5879\n",
      "weighted avg       0.78      0.79      0.72      5879\n",
      "\n"
     ]
    }
   ],
   "source": [
    "cr = classification_report(test_y,y_pred)\n",
    "print(cr)"
   ]
  },
  {
   "cell_type": "code",
   "execution_count": 195,
   "metadata": {},
   "outputs": [
    {
     "name": "stdout",
     "output_type": "stream",
     "text": [
      "[[4571   41]\n",
      " [1168   99]]\n"
     ]
    }
   ],
   "source": [
    "cm = confusion_matrix(test_y,y_pred)\n",
    "print(cm)"
   ]
  },
  {
   "cell_type": "code",
   "execution_count": 196,
   "metadata": {},
   "outputs": [
    {
     "data": {
      "image/png": "[encoded data removed]",
      "text/plain": [
       "<Figure size 720x576 with 2 Axes>"
      ]
     },
     "metadata": {
      "needs_background": "light"
     },
     "output_type": "display_data"
    }
   ],
   "source": [
    "def plot_cm(cm):\n",
    "    labels = ['Stay','Term']\n",
    "    plt.figure(figsize=(10,8))\n",
    "    sns.heatmap(cm,xticklabels=labels,yticklabels=labels,annot=True,fmt='d')\n",
    "    plt.title('Confusion Matrix')\n",
    "    plt.xlabel('Predicted Class')\n",
    "    plt.ylabel('True Class')\n",
    "    plt.show\n",
    "\n",
    "plot_cm(cm)"
   ]
  },
  {
   "cell_type": "code",
   "execution_count": 197,
   "metadata": {},
   "outputs": [],
   "source": [
    "fpr, tpr, thresholds = roc_curve(test_y,y_prob)\n",
    "roc_auc = auc(fpr,tpr)"
   ]
  },
  {
   "cell_type": "code",
   "execution_count": 198,
   "metadata": {},
   "outputs": [],
   "source": [
    "def plot_roc(fpr, tpr, thresholds,roc_auc):\n",
    "    plt.figure(figsize=(15,8))\n",
    "    plt.title('Receiver Operating Characteristic AUC')\n",
    "    plt.plot(fpr,tpr,'b',label='AUC = %0.2f'%roc_auc)\n",
    "    plt.legend(loc='lower right')\n",
    "    plt.plot([0,1],[0,1],'r--')\n",
    "    plt.xlim([-0.1,1.1])\n",
    "    plt.ylim([-0.1,1.1])\n",
    "    plt.xlabel('False Positive Rate')\n",
    "    plt.ylabel('True Positive Rate')\n",
    "    plt.show()"
   ]
  },
  {
   "cell_type": "code",
   "execution_count": 199,
   "metadata": {},
   "outputs": [
    {
     "data": {
      "image/png": "[encoded data removed]",
      "text/plain": [
       "<Figure size 1080x576 with 1 Axes>"
      ]
     },
     "metadata": {
      "needs_background": "light"
     },
     "output_type": "display_data"
    }
   ],
   "source": [
    "plot_roc(fpr, tpr, thresholds,roc_auc)"
   ]
  },
  {
   "cell_type": "code",
   "execution_count": 201,
   "metadata": {},
   "outputs": [
    {
     "name": "stdout",
     "output_type": "stream",
     "text": [
      "[ColumnTransformer]  (1 of 1) Processing numerical_preprocessing, total=   0.0s\n",
      "[ColumnTransformer]  (1 of 1) Processing numerical_preprocessing, total=   0.0s\n"
     ]
    }
   ],
   "source": [
    "#ooh a different way to make a pipeline...\n",
    "num_transformer = Pipeline(steps=[\n",
    "                  ('imputer', SimpleImputer(strategy='median')),\n",
    "                  ('scaler', StandardScaler())])\n",
    "\n",
    "cat_transformer = Pipeline(steps=[\n",
    "                  ('imputer', SimpleImputer(strategy='constant', fill_value='missing')),\n",
    "                  ('onehot', OneHotEncoder(handle_unknown='ignore'))])\n",
    "\n",
    "numerical_features = ['NUM_PATIENTS','CLICKS','AFTER_HOURS']\n",
    "categorical_features = ['DEPT']\n",
    "\n",
    "ct = ColumnTransformer(transformers=[\n",
    "            ('numerical_preprocessing', num_transformer, numerical_features),],remainder='passthrough',verbose=True)\n",
    "#('categorical_preprocessing', cat_transformer, categorical_features)],\n",
    "    \n",
    "# Create the classifier\n",
    "classifier = RandomForestClassifier()\n",
    "\n",
    "# Create the overall model as a single pipeline\n",
    "pipeline = Pipeline([(\"transform_inputs\", ct), (\"classifier\", classifier)])\n",
    "\n",
    "pipeline.fit(train_X, true_y)\n",
    "\n",
    "#onehot_columns = pipeline.named_steps['transform_inputs'].named_transformers_['categorical_preprocessing'].named_steps['onehot'].get_feature_names(input_features=categorical_features)\n",
    "\n",
    "\n",
    "#you can get the values transformed with your pipeline\n",
    "X_values = ct.fit_transform(train_X)"
   ]
  },
  {
   "cell_type": "code",
   "execution_count": 202,
   "metadata": {},
   "outputs": [],
   "source": [
    "cols = numerical_features #+ list(onehot_columns)"
   ]
  },
  {
   "cell_type": "code",
   "execution_count": 203,
   "metadata": {},
   "outputs": [],
   "source": [
    "df_from_array_pipeline = pd.DataFrame(X_values, columns = cols) #.toarray()"
   ]
  },
  {
   "cell_type": "code",
   "execution_count": 204,
   "metadata": {},
   "outputs": [],
   "source": [
    "feature_importance = pd.Series(data= pipeline.named_steps['classifier'].feature_importances_, index = np.array(cols))"
   ]
  },
  {
   "cell_type": "code",
   "execution_count": 205,
   "metadata": {},
   "outputs": [
    {
     "data": {
      "text/plain": [
       "NUM_PATIENTS    0.331969\n",
       "CLICKS          0.352091\n",
       "AFTER_HOURS     0.315939\n",
       "dtype: float64"
      ]
     },
     "execution_count": 205,
     "metadata": {},
     "output_type": "execute_result"
    }
   ],
   "source": [
    "feature_importance"
   ]
  },
  {
   "cell_type": "code",
   "execution_count": null,
   "metadata": {},
   "outputs": [],
   "source": []
  }
 ],
 "metadata": {
  "kernelspec": {
   "display_name": "Python 3",
   "language": "python",
   "name": "python3"
  },
  "language_info": {
   "codemirror_mode": {
    "name": "ipython",
    "version": 3
   },
   "file_extension": ".py",
   "mimetype": "text/x-python",
   "name": "python",
   "nbconvert_exporter": "python",
   "pygments_lexer": "ipython3",
   "version": "3.7.7"
  }
 },
 "nbformat": 4,
 "nbformat_minor": 4
}
