{
 "cells": [
  {
   "cell_type": "code",
   "execution_count": 108,
   "metadata": {},
   "outputs": [],
   "source": [
    "import sklearn\n",
    "import pandas as pd\n",
    "import numpy as np\n",
    "import seaborn as sns\n",
    "import matplotlib.pyplot as plt\n",
    "from sklearn.preprocessing import StandardScaler, OneHotEncoder\n",
    "from sklearn.pipeline import Pipeline #preprocessing \n",
    "from sklearn.impute import SimpleImputer\n",
    "from sklearn.compose import ColumnTransformer\n",
    "from sklearn.ensemble import GradientBoostingClassifier, RandomForestClassifier\n",
    "from sklearn.model_selection import cross_val_score\n",
    "from sklearn.metrics import confusion_matrix, classification_report, auc, roc_curve\n",
    "from imblearn.pipeline import Pipeline as pipe #model processed data"
   ]
  },
  {
   "cell_type": "code",
   "execution_count": 126,
   "metadata": {},
   "outputs": [],
   "source": [
    "pkl_path = 'cone_burnout_data.pkl'"
   ]
  },
  {
   "cell_type": "code",
   "execution_count": 127,
   "metadata": {},
   "outputs": [],
   "source": [
    "df = pd.read_pickle(pkl_path)"
   ]
  },
  {
   "cell_type": "code",
   "execution_count": 131,
   "metadata": {},
   "outputs": [
    {
     "data": {
      "text/html": [
       "<div>\n",
       "<style scoped>\n",
       "    .dataframe tbody tr th:only-of-type {\n",
       "        vertical-align: middle;\n",
       "    }\n",
       "\n",
       "    .dataframe tbody tr th {\n",
       "        vertical-align: top;\n",
       "    }\n",
       "\n",
       "    .dataframe thead th {\n",
       "        text-align: right;\n",
       "    }\n",
       "</style>\n",
       "<table border=\"1\" class=\"dataframe\">\n",
       "  <thead>\n",
       "    <tr style=\"text-align: right;\">\n",
       "      <th></th>\n",
       "      <th>employee_obj_id</th>\n",
       "      <th>clicks_count</th>\n",
       "      <th>patients_accessed_count</th>\n",
       "      <th>after_hours_count</th>\n",
       "      <th>value</th>\n",
       "      <th>indicator</th>\n",
       "    </tr>\n",
       "  </thead>\n",
       "  <tbody>\n",
       "    <tr>\n",
       "      <th>0</th>\n",
       "      <td>119132</td>\n",
       "      <td>45109.0</td>\n",
       "      <td>751.0</td>\n",
       "      <td>446.0</td>\n",
       "      <td>GNA-GUILFORD NEUROLOGIC MAIN</td>\n",
       "      <td>0</td>\n",
       "    </tr>\n",
       "    <tr>\n",
       "      <th>1</th>\n",
       "      <td>119581</td>\n",
       "      <td>15991.0</td>\n",
       "      <td>443.0</td>\n",
       "      <td>375.0</td>\n",
       "      <td>LB-62930 VINCENT W RCK MADIS</td>\n",
       "      <td>0</td>\n",
       "    </tr>\n",
       "    <tr>\n",
       "      <th>2</th>\n",
       "      <td>119624</td>\n",
       "      <td>8401.0</td>\n",
       "      <td>207.0</td>\n",
       "      <td>106.0</td>\n",
       "      <td>WHG-PHYSICAL THERAPY</td>\n",
       "      <td>0</td>\n",
       "    </tr>\n",
       "    <tr>\n",
       "      <th>3</th>\n",
       "      <td>119634</td>\n",
       "      <td>90130.0</td>\n",
       "      <td>638.0</td>\n",
       "      <td>414.0</td>\n",
       "      <td>AAPC-ALAMANCE REG PAIN CLINIC</td>\n",
       "      <td>0</td>\n",
       "    </tr>\n",
       "    <tr>\n",
       "      <th>4</th>\n",
       "      <td>119728</td>\n",
       "      <td>24471.0</td>\n",
       "      <td>516.0</td>\n",
       "      <td>403.0</td>\n",
       "      <td>UMFMD-EVA SHAW MD</td>\n",
       "      <td>0</td>\n",
       "    </tr>\n",
       "  </tbody>\n",
       "</table>\n",
       "</div>"
      ],
      "text/plain": [
       "   employee_obj_id  clicks_count  patients_accessed_count  after_hours_count  \\\n",
       "0           119132       45109.0                    751.0              446.0   \n",
       "1           119581       15991.0                    443.0              375.0   \n",
       "2           119624        8401.0                    207.0              106.0   \n",
       "3           119634       90130.0                    638.0              414.0   \n",
       "4           119728       24471.0                    516.0              403.0   \n",
       "\n",
       "                           value indicator  \n",
       "0   GNA-GUILFORD NEUROLOGIC MAIN         0  \n",
       "1   LB-62930 VINCENT W RCK MADIS         0  \n",
       "2           WHG-PHYSICAL THERAPY         0  \n",
       "3  AAPC-ALAMANCE REG PAIN CLINIC         0  \n",
       "4              UMFMD-EVA SHAW MD         0  "
      ]
     },
     "execution_count": 131,
     "metadata": {},
     "output_type": "execute_result"
    }
   ],
   "source": [
    "df.head()"
   ]
  },
  {
   "cell_type": "code",
   "execution_count": 132,
   "metadata": {},
   "outputs": [
    {
     "name": "stdout",
     "output_type": "stream",
     "text": [
      "0    726\n",
      "1     61\n",
      "Name: indicator, dtype: int64\n"
     ]
    }
   ],
   "source": [
    "y_check = df['indicator']\n",
    "y_check=y_check.astype('int')\n",
    "print(y_check.value_counts())"
   ]
  },
  {
   "cell_type": "code",
   "execution_count": 133,
   "metadata": {},
   "outputs": [],
   "source": [
    "train_df = df.sample(frac=0.7, random_state=1019)\n",
    "test_df = df.drop(train_df.index)"
   ]
  },
  {
   "cell_type": "code",
   "execution_count": 134,
   "metadata": {},
   "outputs": [],
   "source": [
    "true_y = train_df['indicator']\n",
    "test_y = test_df['indicator']"
   ]
  },
  {
   "cell_type": "code",
   "execution_count": 135,
   "metadata": {},
   "outputs": [],
   "source": [
    "true_y=true_y.astype('int')\n",
    "test_y=test_y.astype('int')"
   ]
  },
  {
   "cell_type": "code",
   "execution_count": 136,
   "metadata": {},
   "outputs": [],
   "source": [
    "train_X = train_df.drop(['employee_obj_id','indicator'],axis=1)\n",
    "test_X = test_df.drop(['employee_obj_id','indicator'],axis=1)"
   ]
  },
  {
   "cell_type": "code",
   "execution_count": 137,
   "metadata": {},
   "outputs": [],
   "source": [
    "train_X = train_X.rename({'patients_accessed_count': 'NUM_PATIENTS', 'value': 'DEPT', \n",
    "                          'clicks_count': 'CLICKS','after_hours_count': 'AFTER_HOURS'}, axis=1) \n",
    "test_X = test_X.rename({'patients_accessed_count': 'NUM_PATIENTS', 'value': 'DEPT',\n",
    "                        'clicks_count': 'CLICKS','after_hours_count': 'AFTER_HOURS'}, axis=1) "
   ]
  },
  {
   "cell_type": "code",
   "execution_count": 138,
   "metadata": {},
   "outputs": [
    {
     "data": {
      "text/html": [
       "<div>\n",
       "<style scoped>\n",
       "    .dataframe tbody tr th:only-of-type {\n",
       "        vertical-align: middle;\n",
       "    }\n",
       "\n",
       "    .dataframe tbody tr th {\n",
       "        vertical-align: top;\n",
       "    }\n",
       "\n",
       "    .dataframe thead th {\n",
       "        text-align: right;\n",
       "    }\n",
       "</style>\n",
       "<table border=\"1\" class=\"dataframe\">\n",
       "  <thead>\n",
       "    <tr style=\"text-align: right;\">\n",
       "      <th></th>\n",
       "      <th>CLICKS</th>\n",
       "      <th>NUM_PATIENTS</th>\n",
       "      <th>AFTER_HOURS</th>\n",
       "      <th>DEPT</th>\n",
       "    </tr>\n",
       "  </thead>\n",
       "  <tbody>\n",
       "    <tr>\n",
       "      <th>224</th>\n",
       "      <td>NaN</td>\n",
       "      <td>NaN</td>\n",
       "      <td>NaN</td>\n",
       "      <td>NaN</td>\n",
       "    </tr>\n",
       "    <tr>\n",
       "      <th>166</th>\n",
       "      <td>16302.0</td>\n",
       "      <td>781.0</td>\n",
       "      <td>516.0</td>\n",
       "      <td>DST-DR W SPENCER TILLEY PRACT</td>\n",
       "    </tr>\n",
       "    <tr>\n",
       "      <th>53</th>\n",
       "      <td>13215.0</td>\n",
       "      <td>682.0</td>\n",
       "      <td>545.0</td>\n",
       "      <td>BH-PHYSICIAN SERVICES</td>\n",
       "    </tr>\n",
       "    <tr>\n",
       "      <th>706</th>\n",
       "      <td>NaN</td>\n",
       "      <td>NaN</td>\n",
       "      <td>NaN</td>\n",
       "      <td>NaN</td>\n",
       "    </tr>\n",
       "    <tr>\n",
       "      <th>148</th>\n",
       "      <td>11554.0</td>\n",
       "      <td>77.0</td>\n",
       "      <td>66.0</td>\n",
       "      <td>MHC - DIV 4000 - IP REHAB</td>\n",
       "    </tr>\n",
       "  </tbody>\n",
       "</table>\n",
       "</div>"
      ],
      "text/plain": [
       "      CLICKS  NUM_PATIENTS  AFTER_HOURS                           DEPT\n",
       "224      NaN           NaN          NaN                            NaN\n",
       "166  16302.0         781.0        516.0  DST-DR W SPENCER TILLEY PRACT\n",
       "53   13215.0         682.0        545.0          BH-PHYSICIAN SERVICES\n",
       "706      NaN           NaN          NaN                            NaN\n",
       "148  11554.0          77.0         66.0      MHC - DIV 4000 - IP REHAB"
      ]
     },
     "execution_count": 138,
     "metadata": {},
     "output_type": "execute_result"
    }
   ],
   "source": [
    "train_X.head()"
   ]
  },
  {
   "cell_type": "code",
   "execution_count": 139,
   "metadata": {},
   "outputs": [
    {
     "data": {
      "text/plain": [
       "0    218\n",
       "1     18\n",
       "Name: indicator, dtype: int64"
      ]
     },
     "execution_count": 139,
     "metadata": {},
     "output_type": "execute_result"
    }
   ],
   "source": [
    "test_y.value_counts()"
   ]
  },
  {
   "cell_type": "code",
   "execution_count": 140,
   "metadata": {},
   "outputs": [],
   "source": [
    "def transform_pipeline(categorical_features,numeric_features):\n",
    "    \n",
    "    numeric_transformer = Pipeline(steps=[\n",
    "        ('imputer', SimpleImputer(strategy='median')),\n",
    "        ('scaler', StandardScaler())])\n",
    "    \n",
    "    categorical_transformer = Pipeline(steps=[\n",
    "        ('imputer', SimpleImputer(strategy='constant', fill_value='missing')),\n",
    "        ('onehot', OneHotEncoder(handle_unknown='ignore'))])    \n",
    "    \n",
    "    ct = ColumnTransformer(\n",
    "    transformers=[\n",
    "        ('num', numeric_transformer, numeric_features),\n",
    "        ('cat', categorical_transformer, categorical_features)])  \n",
    "    \n",
    "    return ct  "
   ]
  },
  {
   "cell_type": "code",
   "execution_count": 141,
   "metadata": {},
   "outputs": [],
   "source": [
    "num_features = ['NUM_PATIENTS']\n",
    "cat_features = ['DEPT']"
   ]
  },
  {
   "cell_type": "code",
   "execution_count": 142,
   "metadata": {},
   "outputs": [],
   "source": [
    "ct = transform_pipeline(cat_features,num_features)"
   ]
  },
  {
   "cell_type": "code",
   "execution_count": 143,
   "metadata": {},
   "outputs": [],
   "source": [
    "#apply the transform \n",
    "X_train_trans = ct.fit_transform(train_X)\n",
    "X_test_trans = ct.transform(test_X)"
   ]
  },
  {
   "cell_type": "code",
   "execution_count": 153,
   "metadata": {},
   "outputs": [],
   "source": [
    "def ml_pipeline():\n",
    "    ss_step = ('ss', StandardScaler(with_mean=False))\n",
    "\n",
    "    rfc_step = ('rfc',RandomForestClassifier())\n",
    "    \n",
    "    pipeline_steps = [ss_step, rfc_step]\n",
    "    \n",
    "    ml_pipe = pipe(pipeline_steps)\n",
    "    \n",
    "    return ml_pipe"
   ]
  },
  {
   "cell_type": "code",
   "execution_count": 154,
   "metadata": {},
   "outputs": [],
   "source": [
    "ml_pipe = ml_pipeline()"
   ]
  },
  {
   "cell_type": "code",
   "execution_count": 155,
   "metadata": {},
   "outputs": [
    {
     "data": {
      "text/plain": [
       "Pipeline(steps=[('ss', StandardScaler(with_mean=False)),\n",
       "                ('rfc', RandomForestClassifier())])"
      ]
     },
     "execution_count": 155,
     "metadata": {},
     "output_type": "execute_result"
    }
   ],
   "source": [
    "#fit to train\n",
    "ml_pipe.fit(X_train_trans,true_y)"
   ]
  },
  {
   "cell_type": "code",
   "execution_count": 156,
   "metadata": {},
   "outputs": [],
   "source": [
    "#predict on test\n",
    "y_pred = ml_pipe.predict(X_test_trans)\n",
    "y_prob = ml_pipe.predict_proba(X_test_trans)[:,1]"
   ]
  },
  {
   "cell_type": "code",
   "execution_count": 100,
   "metadata": {},
   "outputs": [],
   "source": [
    "#metrics"
   ]
  },
  {
   "cell_type": "code",
   "execution_count": 157,
   "metadata": {},
   "outputs": [],
   "source": [
    "scores = cross_val_score(ml_pipe, X_train_trans, true_y, cv=5)"
   ]
  },
  {
   "cell_type": "code",
   "execution_count": 158,
   "metadata": {},
   "outputs": [
    {
     "data": {
      "text/plain": [
       "array([0.91891892, 0.92727273, 0.92727273, 0.91818182, 0.90909091])"
      ]
     },
     "execution_count": 158,
     "metadata": {},
     "output_type": "execute_result"
    }
   ],
   "source": [
    "scores"
   ]
  },
  {
   "cell_type": "code",
   "execution_count": 159,
   "metadata": {},
   "outputs": [
    {
     "name": "stdout",
     "output_type": "stream",
     "text": [
      "              precision    recall  f1-score   support\n",
      "\n",
      "           0       0.92      0.99      0.96       218\n",
      "           1       0.00      0.00      0.00        18\n",
      "\n",
      "    accuracy                           0.92       236\n",
      "   macro avg       0.46      0.50      0.48       236\n",
      "weighted avg       0.85      0.92      0.88       236\n",
      "\n"
     ]
    }
   ],
   "source": [
    "cr = classification_report(test_y,y_pred)\n",
    "print(cr)"
   ]
  },
  {
   "cell_type": "code",
   "execution_count": 160,
   "metadata": {},
   "outputs": [
    {
     "name": "stdout",
     "output_type": "stream",
     "text": [
      "[[216   2]\n",
      " [ 18   0]]\n"
     ]
    }
   ],
   "source": [
    "cm = confusion_matrix(test_y,y_pred)\n",
    "print(cm)"
   ]
  },
  {
   "cell_type": "code",
   "execution_count": 163,
   "metadata": {},
   "outputs": [
    {
     "data": {
      "image/png": "[encoded data removed]",
      "text/plain": [
       "<Figure size 720x576 with 2 Axes>"
      ]
     },
     "metadata": {
      "needs_background": "light"
     },
     "output_type": "display_data"
    }
   ],
   "source": [
    "def plot_cm(cm):\n",
    "    labels = ['No Churn','Churn']\n",
    "    plt.figure(figsize=(10,8))\n",
    "    sns.heatmap(cm,xticklabels=labels,yticklabels=labels,annot=True,fmt='d')\n",
    "    plt.title('Confusion Matrix')\n",
    "    plt.xlabel('Predicted Class')\n",
    "    plt.ylabel('True Class')\n",
    "    plt.show\n",
    "\n",
    "plot_cm(cm)"
   ]
  },
  {
   "cell_type": "code",
   "execution_count": 164,
   "metadata": {},
   "outputs": [],
   "source": [
    "fpr, tpr, thresholds = roc_curve(test_y,y_prob)\n",
    "roc_auc = auc(fpr,tpr)"
   ]
  },
  {
   "cell_type": "code",
   "execution_count": 165,
   "metadata": {},
   "outputs": [],
   "source": [
    "def plot_roc(fpr, tpr, thresholds,roc_auc):\n",
    "    plt.figure(figsize=(15,8))\n",
    "    plt.title('Receiver Operating Characteristic AUC')\n",
    "    plt.plot(fpr,tpr,'b',label='AUC = %0.2f'%roc_auc)\n",
    "    plt.legend(loc='lower right')\n",
    "    plt.plot([0,1],[0,1],'r--')\n",
    "    plt.xlim([-0.1,1.1])\n",
    "    plt.ylim([-0.1,1.1])\n",
    "    plt.xlabel('False Positive Rate')\n",
    "    plt.ylabel('True Positive Rate')\n",
    "    plt.show()"
   ]
  },
  {
   "cell_type": "code",
   "execution_count": 166,
   "metadata": {},
   "outputs": [
    {
     "data": {
      "image/png": "[encoded data removed]",
      "text/plain": [
       "<Figure size 1080x576 with 1 Axes>"
      ]
     },
     "metadata": {
      "needs_background": "light"
     },
     "output_type": "display_data"
    }
   ],
   "source": [
    "plot_roc(fpr, tpr, thresholds,roc_auc)"
   ]
  },
  {
   "cell_type": "code",
   "execution_count": null,
   "metadata": {},
   "outputs": [],
   "source": []
  }
 ],
 "metadata": {
  "kernelspec": {
   "display_name": "Python 3",
   "language": "python",
   "name": "python3"
  },
  "language_info": {
   "codemirror_mode": {
    "name": "ipython",
    "version": 3
   },
   "file_extension": ".py",
   "mimetype": "text/x-python",
   "name": "python",
   "nbconvert_exporter": "python",
   "pygments_lexer": "ipython3",
   "version": "3.7.7"
  }
 },
 "nbformat": 4,
 "nbformat_minor": 4
}
