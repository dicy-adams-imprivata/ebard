{
 "cells": [
  {
   "cell_type": "code",
   "execution_count": 1,
   "metadata": {},
   "outputs": [],
   "source": [
    "import sklearn\n",
    "import pandas as pd\n",
    "import numpy as np\n",
    "import seaborn as sns\n",
    "import matplotlib.pyplot as plt\n",
    "from sklearn.preprocessing import StandardScaler, OneHotEncoder\n",
    "from sklearn.pipeline import Pipeline #preprocessing \n",
    "from sklearn.impute import SimpleImputer\n",
    "from sklearn.compose import ColumnTransformer\n",
    "from sklearn.ensemble import GradientBoostingClassifier, RandomForestClassifier\n",
    "from sklearn.model_selection import cross_val_score\n",
    "from sklearn.metrics import confusion_matrix, classification_report, auc, roc_curve\n",
    "from imblearn.pipeline import Pipeline as pipe #model processed data"
   ]
  },
  {
   "cell_type": "code",
   "execution_count": 2,
   "metadata": {},
   "outputs": [],
   "source": [
    "pkl_path = 'cone_burnout_data.pkl'"
   ]
  },
  {
   "cell_type": "code",
   "execution_count": 3,
   "metadata": {},
   "outputs": [],
   "source": [
    "df = pd.read_pickle(pkl_path)"
   ]
  },
  {
   "cell_type": "code",
   "execution_count": 4,
   "metadata": {},
   "outputs": [
    {
     "data": {
      "text/html": [
       "<div>\n",
       "<style scoped>\n",
       "    .dataframe tbody tr th:only-of-type {\n",
       "        vertical-align: middle;\n",
       "    }\n",
       "\n",
       "    .dataframe tbody tr th {\n",
       "        vertical-align: top;\n",
       "    }\n",
       "\n",
       "    .dataframe thead th {\n",
       "        text-align: right;\n",
       "    }\n",
       "</style>\n",
       "<table border=\"1\" class=\"dataframe\">\n",
       "  <thead>\n",
       "    <tr style=\"text-align: right;\">\n",
       "      <th></th>\n",
       "      <th>employee_obj_id</th>\n",
       "      <th>clicks_count</th>\n",
       "      <th>patients_accessed_count</th>\n",
       "      <th>after_hours_count</th>\n",
       "      <th>value</th>\n",
       "      <th>indicator</th>\n",
       "    </tr>\n",
       "  </thead>\n",
       "  <tbody>\n",
       "    <tr>\n",
       "      <th>0</th>\n",
       "      <td>119132</td>\n",
       "      <td>45109.0</td>\n",
       "      <td>751.0</td>\n",
       "      <td>446.0</td>\n",
       "      <td>GNA-GUILFORD NEUROLOGIC MAIN</td>\n",
       "      <td>0</td>\n",
       "    </tr>\n",
       "    <tr>\n",
       "      <th>1</th>\n",
       "      <td>119581</td>\n",
       "      <td>15991.0</td>\n",
       "      <td>443.0</td>\n",
       "      <td>375.0</td>\n",
       "      <td>LB-62930 VINCENT W RCK MADIS</td>\n",
       "      <td>0</td>\n",
       "    </tr>\n",
       "    <tr>\n",
       "      <th>2</th>\n",
       "      <td>119624</td>\n",
       "      <td>8401.0</td>\n",
       "      <td>207.0</td>\n",
       "      <td>106.0</td>\n",
       "      <td>WHG-PHYSICAL THERAPY</td>\n",
       "      <td>0</td>\n",
       "    </tr>\n",
       "    <tr>\n",
       "      <th>3</th>\n",
       "      <td>119634</td>\n",
       "      <td>90130.0</td>\n",
       "      <td>638.0</td>\n",
       "      <td>414.0</td>\n",
       "      <td>AAPC-ALAMANCE REG PAIN CLINIC</td>\n",
       "      <td>0</td>\n",
       "    </tr>\n",
       "    <tr>\n",
       "      <th>4</th>\n",
       "      <td>119728</td>\n",
       "      <td>24471.0</td>\n",
       "      <td>516.0</td>\n",
       "      <td>403.0</td>\n",
       "      <td>UMFMD-EVA SHAW MD</td>\n",
       "      <td>0</td>\n",
       "    </tr>\n",
       "  </tbody>\n",
       "</table>\n",
       "</div>"
      ],
      "text/plain": [
       "   employee_obj_id  clicks_count  patients_accessed_count  after_hours_count  \\\n",
       "0           119132       45109.0                    751.0              446.0   \n",
       "1           119581       15991.0                    443.0              375.0   \n",
       "2           119624        8401.0                    207.0              106.0   \n",
       "3           119634       90130.0                    638.0              414.0   \n",
       "4           119728       24471.0                    516.0              403.0   \n",
       "\n",
       "                           value indicator  \n",
       "0   GNA-GUILFORD NEUROLOGIC MAIN         0  \n",
       "1   LB-62930 VINCENT W RCK MADIS         0  \n",
       "2           WHG-PHYSICAL THERAPY         0  \n",
       "3  AAPC-ALAMANCE REG PAIN CLINIC         0  \n",
       "4              UMFMD-EVA SHAW MD         0  "
      ]
     },
     "execution_count": 4,
     "metadata": {},
     "output_type": "execute_result"
    }
   ],
   "source": [
    "df.head()"
   ]
  },
  {
   "cell_type": "code",
   "execution_count": 5,
   "metadata": {},
   "outputs": [
    {
     "name": "stdout",
     "output_type": "stream",
     "text": [
      "0    726\n",
      "1     61\n",
      "Name: indicator, dtype: int64\n"
     ]
    }
   ],
   "source": [
    "y_check = df['indicator']\n",
    "y_check=y_check.astype('int')\n",
    "print(y_check.value_counts())"
   ]
  },
  {
   "cell_type": "code",
   "execution_count": 6,
   "metadata": {},
   "outputs": [],
   "source": [
    "train_df = df.sample(frac=0.7, random_state=1019)\n",
    "test_df = df.drop(train_df.index)"
   ]
  },
  {
   "cell_type": "code",
   "execution_count": 7,
   "metadata": {},
   "outputs": [],
   "source": [
    "true_y = train_df['indicator']\n",
    "test_y = test_df['indicator']"
   ]
  },
  {
   "cell_type": "code",
   "execution_count": 8,
   "metadata": {},
   "outputs": [],
   "source": [
    "true_y=true_y.astype('int')\n",
    "test_y=test_y.astype('int')"
   ]
  },
  {
   "cell_type": "code",
   "execution_count": 9,
   "metadata": {},
   "outputs": [],
   "source": [
    "train_X = train_df.drop(['employee_obj_id','indicator'],axis=1)\n",
    "test_X = test_df.drop(['employee_obj_id','indicator'],axis=1)"
   ]
  },
  {
   "cell_type": "code",
   "execution_count": 10,
   "metadata": {},
   "outputs": [],
   "source": [
    "train_X = train_X.rename({'patients_accessed_count': 'NUM_PATIENTS', 'value': 'DEPT', \n",
    "                          'clicks_count': 'CLICKS','after_hours_count': 'AFTER_HOURS'}, axis=1) \n",
    "test_X = test_X.rename({'patients_accessed_count': 'NUM_PATIENTS', 'value': 'DEPT',\n",
    "                        'clicks_count': 'CLICKS','after_hours_count': 'AFTER_HOURS'}, axis=1) "
   ]
  },
  {
   "cell_type": "code",
   "execution_count": 11,
   "metadata": {},
   "outputs": [
    {
     "data": {
      "text/html": [
       "<div>\n",
       "<style scoped>\n",
       "    .dataframe tbody tr th:only-of-type {\n",
       "        vertical-align: middle;\n",
       "    }\n",
       "\n",
       "    .dataframe tbody tr th {\n",
       "        vertical-align: top;\n",
       "    }\n",
       "\n",
       "    .dataframe thead th {\n",
       "        text-align: right;\n",
       "    }\n",
       "</style>\n",
       "<table border=\"1\" class=\"dataframe\">\n",
       "  <thead>\n",
       "    <tr style=\"text-align: right;\">\n",
       "      <th></th>\n",
       "      <th>CLICKS</th>\n",
       "      <th>NUM_PATIENTS</th>\n",
       "      <th>AFTER_HOURS</th>\n",
       "      <th>DEPT</th>\n",
       "    </tr>\n",
       "  </thead>\n",
       "  <tbody>\n",
       "    <tr>\n",
       "      <th>224</th>\n",
       "      <td>NaN</td>\n",
       "      <td>NaN</td>\n",
       "      <td>NaN</td>\n",
       "      <td>NaN</td>\n",
       "    </tr>\n",
       "    <tr>\n",
       "      <th>166</th>\n",
       "      <td>16302.0</td>\n",
       "      <td>781.0</td>\n",
       "      <td>516.0</td>\n",
       "      <td>DST-DR W SPENCER TILLEY PRACT</td>\n",
       "    </tr>\n",
       "    <tr>\n",
       "      <th>53</th>\n",
       "      <td>13215.0</td>\n",
       "      <td>682.0</td>\n",
       "      <td>545.0</td>\n",
       "      <td>BH-PHYSICIAN SERVICES</td>\n",
       "    </tr>\n",
       "    <tr>\n",
       "      <th>706</th>\n",
       "      <td>NaN</td>\n",
       "      <td>NaN</td>\n",
       "      <td>NaN</td>\n",
       "      <td>NaN</td>\n",
       "    </tr>\n",
       "    <tr>\n",
       "      <th>148</th>\n",
       "      <td>11554.0</td>\n",
       "      <td>77.0</td>\n",
       "      <td>66.0</td>\n",
       "      <td>MHC - DIV 4000 - IP REHAB</td>\n",
       "    </tr>\n",
       "  </tbody>\n",
       "</table>\n",
       "</div>"
      ],
      "text/plain": [
       "      CLICKS  NUM_PATIENTS  AFTER_HOURS                           DEPT\n",
       "224      NaN           NaN          NaN                            NaN\n",
       "166  16302.0         781.0        516.0  DST-DR W SPENCER TILLEY PRACT\n",
       "53   13215.0         682.0        545.0          BH-PHYSICIAN SERVICES\n",
       "706      NaN           NaN          NaN                            NaN\n",
       "148  11554.0          77.0         66.0      MHC - DIV 4000 - IP REHAB"
      ]
     },
     "execution_count": 11,
     "metadata": {},
     "output_type": "execute_result"
    }
   ],
   "source": [
    "train_X.head()"
   ]
  },
  {
   "cell_type": "code",
   "execution_count": 12,
   "metadata": {},
   "outputs": [
    {
     "data": {
      "text/plain": [
       "0    218\n",
       "1     18\n",
       "Name: indicator, dtype: int64"
      ]
     },
     "execution_count": 12,
     "metadata": {},
     "output_type": "execute_result"
    }
   ],
   "source": [
    "test_y.value_counts()"
   ]
  },
  {
   "cell_type": "code",
   "execution_count": 13,
   "metadata": {},
   "outputs": [],
   "source": [
    "def transform_pipeline(categorical_features,numeric_features):\n",
    "    \n",
    "    numeric_transformer = Pipeline(steps=[\n",
    "        ('imputer', SimpleImputer(strategy='median')),\n",
    "        ('scaler', StandardScaler())])\n",
    "    \n",
    "    categorical_transformer = Pipeline(steps=[\n",
    "        ('imputer', SimpleImputer(strategy='constant', fill_value='missing')),\n",
    "        ('onehot', OneHotEncoder(handle_unknown='ignore'))])    \n",
    "    \n",
    "    ct = ColumnTransformer(\n",
    "    transformers=[\n",
    "        ('num', numeric_transformer, numeric_features),\n",
    "        ('cat', categorical_transformer, categorical_features)])  \n",
    "    \n",
    "    return ct  "
   ]
  },
  {
   "cell_type": "code",
   "execution_count": 14,
   "metadata": {},
   "outputs": [],
   "source": [
    "numerical_features = ['NUM_PATIENTS','CLICKS','AFTER_HOURS']\n",
    "categorical_features = ['DEPT']"
   ]
  },
  {
   "cell_type": "code",
   "execution_count": 16,
   "metadata": {},
   "outputs": [],
   "source": [
    "ct = transform_pipeline(categorical_features,numerical_features)"
   ]
  },
  {
   "cell_type": "code",
   "execution_count": 17,
   "metadata": {},
   "outputs": [],
   "source": [
    "#apply the transform \n",
    "X_train_trans = ct.fit_transform(train_X)\n",
    "X_test_trans = ct.transform(test_X)"
   ]
  },
  {
   "cell_type": "code",
   "execution_count": 18,
   "metadata": {},
   "outputs": [],
   "source": [
    "def ml_pipeline():\n",
    "    ss_step = ('ss', StandardScaler(with_mean=False))\n",
    "\n",
    "    rfc_step = ('rfc',RandomForestClassifier())\n",
    "    \n",
    "    pipeline_steps = [ss_step, rfc_step]\n",
    "    \n",
    "    ml_pipe = pipe(pipeline_steps)\n",
    "    \n",
    "    return ml_pipe"
   ]
  },
  {
   "cell_type": "code",
   "execution_count": 19,
   "metadata": {},
   "outputs": [],
   "source": [
    "ml_pipe = ml_pipeline()"
   ]
  },
  {
   "cell_type": "code",
   "execution_count": 20,
   "metadata": {},
   "outputs": [
    {
     "data": {
      "text/plain": [
       "Pipeline(steps=[('ss', StandardScaler(with_mean=False)),\n",
       "                ('rfc', RandomForestClassifier())])"
      ]
     },
     "execution_count": 20,
     "metadata": {},
     "output_type": "execute_result"
    }
   ],
   "source": [
    "#fit to train\n",
    "ml_pipe.fit(X_train_trans,true_y)"
   ]
  },
  {
   "cell_type": "code",
   "execution_count": 21,
   "metadata": {},
   "outputs": [],
   "source": [
    "#predict on test\n",
    "y_pred = ml_pipe.predict(X_test_trans)\n",
    "y_prob = ml_pipe.predict_proba(X_test_trans)[:,1]"
   ]
  },
  {
   "cell_type": "code",
   "execution_count": 22,
   "metadata": {},
   "outputs": [],
   "source": [
    "#metrics"
   ]
  },
  {
   "cell_type": "code",
   "execution_count": 23,
   "metadata": {},
   "outputs": [],
   "source": [
    "scores = cross_val_score(ml_pipe, X_train_trans, true_y, cv=5)"
   ]
  },
  {
   "cell_type": "code",
   "execution_count": 24,
   "metadata": {},
   "outputs": [
    {
     "data": {
      "text/plain": [
       "array([0.91891892, 0.92727273, 0.92727273, 0.91818182, 0.91818182])"
      ]
     },
     "execution_count": 24,
     "metadata": {},
     "output_type": "execute_result"
    }
   ],
   "source": [
    "scores"
   ]
  },
  {
   "cell_type": "code",
   "execution_count": 25,
   "metadata": {},
   "outputs": [
    {
     "name": "stdout",
     "output_type": "stream",
     "text": [
      "              precision    recall  f1-score   support\n",
      "\n",
      "           0       0.92      1.00      0.96       218\n",
      "           1       0.00      0.00      0.00        18\n",
      "\n",
      "    accuracy                           0.92       236\n",
      "   macro avg       0.46      0.50      0.48       236\n",
      "weighted avg       0.85      0.92      0.89       236\n",
      "\n"
     ]
    },
    {
     "name": "stderr",
     "output_type": "stream",
     "text": [
      "/Users/dadams/.pyenv/versions/3.7.7/envs/eba/lib/python3.7/site-packages/sklearn/metrics/_classification.py:1221: UndefinedMetricWarning: Precision and F-score are ill-defined and being set to 0.0 in labels with no predicted samples. Use `zero_division` parameter to control this behavior.\n",
      "  _warn_prf(average, modifier, msg_start, len(result))\n"
     ]
    }
   ],
   "source": [
    "cr = classification_report(test_y,y_pred)\n",
    "print(cr)"
   ]
  },
  {
   "cell_type": "code",
   "execution_count": 26,
   "metadata": {},
   "outputs": [
    {
     "name": "stdout",
     "output_type": "stream",
     "text": [
      "[[218   0]\n",
      " [ 18   0]]\n"
     ]
    }
   ],
   "source": [
    "cm = confusion_matrix(test_y,y_pred)\n",
    "print(cm)"
   ]
  },
  {
   "cell_type": "code",
   "execution_count": 27,
   "metadata": {},
   "outputs": [
    {
     "data": {
      "image/png": "[encoded data removed]",
      "text/plain": [
       "<Figure size 720x576 with 2 Axes>"
      ]
     },
     "metadata": {
      "needs_background": "light"
     },
     "output_type": "display_data"
    }
   ],
   "source": [
    "def plot_cm(cm):\n",
    "    labels = ['No Churn','Churn']\n",
    "    plt.figure(figsize=(10,8))\n",
    "    sns.heatmap(cm,xticklabels=labels,yticklabels=labels,annot=True,fmt='d')\n",
    "    plt.title('Confusion Matrix')\n",
    "    plt.xlabel('Predicted Class')\n",
    "    plt.ylabel('True Class')\n",
    "    plt.show\n",
    "\n",
    "plot_cm(cm)"
   ]
  },
  {
   "cell_type": "code",
   "execution_count": 28,
   "metadata": {},
   "outputs": [],
   "source": [
    "fpr, tpr, thresholds = roc_curve(test_y,y_prob)\n",
    "roc_auc = auc(fpr,tpr)"
   ]
  },
  {
   "cell_type": "code",
   "execution_count": 29,
   "metadata": {},
   "outputs": [],
   "source": [
    "def plot_roc(fpr, tpr, thresholds,roc_auc):\n",
    "    plt.figure(figsize=(15,8))\n",
    "    plt.title('Receiver Operating Characteristic AUC')\n",
    "    plt.plot(fpr,tpr,'b',label='AUC = %0.2f'%roc_auc)\n",
    "    plt.legend(loc='lower right')\n",
    "    plt.plot([0,1],[0,1],'r--')\n",
    "    plt.xlim([-0.1,1.1])\n",
    "    plt.ylim([-0.1,1.1])\n",
    "    plt.xlabel('False Positive Rate')\n",
    "    plt.ylabel('True Positive Rate')\n",
    "    plt.show()"
   ]
  },
  {
   "cell_type": "code",
   "execution_count": 30,
   "metadata": {},
   "outputs": [
    {
     "data": {
      "image/png": "[encoded data removed]",
      "text/plain": [
       "<Figure size 1080x576 with 1 Axes>"
      ]
     },
     "metadata": {
      "needs_background": "light"
     },
     "output_type": "display_data"
    }
   ],
   "source": [
    "plot_roc(fpr, tpr, thresholds,roc_auc)"
   ]
  },
  {
   "cell_type": "code",
   "execution_count": 43,
   "metadata": {},
   "outputs": [
    {
     "name": "stdout",
     "output_type": "stream",
     "text": [
      "[ColumnTransformer]  (1 of 2) Processing numerical_preprocessing, total=   0.0s\n",
      "[ColumnTransformer]  (2 of 2) Processing categorical_preprocessing, total=   0.0s\n",
      "[ColumnTransformer]  (1 of 2) Processing numerical_preprocessing, total=   0.0s\n",
      "[ColumnTransformer]  (2 of 2) Processing categorical_preprocessing, total=   0.0s\n"
     ]
    }
   ],
   "source": [
    "#ooh a different way to make a pipeline...\n",
    "num_transformer = Pipeline(steps=[\n",
    "                  ('imputer', SimpleImputer(strategy='median')),\n",
    "                  ('scaler', StandardScaler())])\n",
    "\n",
    "cat_transformer = Pipeline(steps=[\n",
    "                  ('imputer', SimpleImputer(strategy='constant', fill_value='missing')),\n",
    "                  ('onehot', OneHotEncoder(handle_unknown='ignore'))])\n",
    "\n",
    "numerical_features = ['NUM_PATIENTS','CLICKS','AFTER_HOURS']\n",
    "categorical_features = ['DEPT']\n",
    "\n",
    "ct = ColumnTransformer(transformers=[\n",
    "            ('numerical_preprocessing', num_transformer, numerical_features),\n",
    "       ('categorical_preprocessing', cat_transformer, categorical_features)],\n",
    "        remainder='passthrough',\n",
    "        verbose=True)\n",
    "\n",
    "# Create the classifier\n",
    "classifier = RandomForestClassifier()\n",
    "\n",
    "# Create the overall model as a single pipeline\n",
    "pipeline = Pipeline([(\"transform_inputs\", ct), (\"classifier\", classifier)])\n",
    "\n",
    "pipeline.fit(train_X, true_y)\n",
    "\n",
    "onehot_columns = pipeline.named_steps['transform_inputs'].named_transformers_['categorical_preprocessing'].named_steps['onehot'].get_feature_names(input_features=categorical_features)\n",
    "\n",
    "\n",
    "#you can get the values transformed with your pipeline\n",
    "X_values = ct.fit_transform(train_X)"
   ]
  },
  {
   "cell_type": "code",
   "execution_count": 38,
   "metadata": {},
   "outputs": [],
   "source": [
    "cols = numerical_features + list(onehot_columns)"
   ]
  },
  {
   "cell_type": "code",
   "execution_count": 39,
   "metadata": {},
   "outputs": [
    {
     "data": {
      "text/plain": [
       "['NUM_PATIENTS',\n",
       " 'CLICKS',\n",
       " 'AFTER_HOURS',\n",
       " 'DEPT_AAA-ALLERGY AND ASTHMA GSO',\n",
       " 'DEPT_AAA-ALLERGY AND ASTHMA HIGH PT',\n",
       " 'DEPT_AAPC-ALAMANCE REG PAIN CLINIC',\n",
       " 'DEPT_AEC-EP REHAB 1ST FLOOR',\n",
       " 'DEPT_APH-PHYSICAL THERAPY',\n",
       " 'DEPT_APS-APC-CRISSMAN FAM PRAC',\n",
       " 'DEPT_APS-BURLINGTON FAMILY',\n",
       " 'DEPT_ARMC-ADLT BEHAV MED-LOWER',\n",
       " 'DEPT_ARMC-AMBULATORY SURGERY',\n",
       " 'DEPT_ARMC-CLINIC RESEARCH',\n",
       " 'DEPT_ARMC-CLINICAL LABORATORY',\n",
       " 'DEPT_ARMC-EMERGENCY ROOM',\n",
       " 'DEPT_ARMC-GENSURGERY-2ND LEVEL',\n",
       " 'DEPT_ARMC-ICU CCU-2ND LEVEL',\n",
       " 'DEPT_ARMC-LABOR AND DELIVERY',\n",
       " 'DEPT_ARMC-MEBANE SURGERY CNTR',\n",
       " 'DEPT_ARMC-MOTHER-BABY 3RD LEVL',\n",
       " 'DEPT_ARMC-NEWBORN NRSY 3RD LVL',\n",
       " 'DEPT_ARMC-ORTHO REHAB 1ST LEVL',\n",
       " 'DEPT_ARMC-PHARMACY',\n",
       " 'DEPT_ARMC-RADIOLOGY DIAGNOSTIC',\n",
       " 'DEPT_ARMC-URGENT CR MEBANE ASC',\n",
       " 'DEPT_AVS-ALAMANCE VEIN VASC SURGERY',\n",
       " 'DEPT_BH ASSESSMENT SERVICES',\n",
       " 'DEPT_BH-IP ADULT SERVICES',\n",
       " 'DEPT_BH-PHYSICIAN SERVICES',\n",
       " 'DEPT_CHMG-HIM',\n",
       " 'DEPT_CVD-CV BURLINGTON',\n",
       " 'DEPT_CVD-CV NORTHLINE DIVISION',\n",
       " 'DEPT_DST-DR W SPENCER TILLEY PRACT',\n",
       " 'DEPT_GNA-GUILFORD NEUROLOGIC MAIN',\n",
       " 'DEPT_HSD-ED HIGH POINT MEDCENTER',\n",
       " 'DEPT_HSD-OP REHAB CHURCH STREET',\n",
       " 'DEPT_HSD-OP REHAB-PEDS',\n",
       " 'DEPT_JJC-JAMES J CROSSLEY PRACTICE',\n",
       " 'DEPT_LB-62930 MOORE',\n",
       " 'DEPT_LB-62930 VINCENT W RCK MADIS',\n",
       " 'DEPT_LB-GI OFFICE',\n",
       " 'DEPT_LB-NEUROLOGY',\n",
       " 'DEPT_LB-PC SW MEDCTR HIGH POINT',\n",
       " 'DEPT_LB-PC-HORSE PEN CREEK',\n",
       " 'DEPT_LB-PRIMARY CARE BAXLEY',\n",
       " 'DEPT_LB-PRIMARY CARE ELAM',\n",
       " 'DEPT_LB-PRIMARY CARE STONEY CREEK',\n",
       " 'DEPT_LB-PULMONARY OFFICE',\n",
       " 'DEPT_LB-WSTRN ROCK FAM MED- MADISON',\n",
       " 'DEPT_MHC - ADMITTING',\n",
       " 'DEPT_MHC - CARDIAC REHABILITATION',\n",
       " 'DEPT_MHC - DIV 4000 - IP REHAB',\n",
       " 'DEPT_MHC - IV ADMIXTURE',\n",
       " 'DEPT_MHC - MOLECULAR IMAGING',\n",
       " 'DEPT_MHC - OPER SERVICES MAT MGMT',\n",
       " 'DEPT_MHC - RADIOLOGY - DIAGNOSTIC',\n",
       " 'DEPT_MHC - SPECIALTY PHARMACY ADMIN',\n",
       " 'DEPT_MHC - VAST AND IV NURSING',\n",
       " 'DEPT_MHC 2 HEART CV ICU',\n",
       " 'DEPT_MHC 5 WEST MEDICAL PROGRESSIVE CARE',\n",
       " 'DEPT_MHC-10229 URGENT CARE CTR MD',\n",
       " 'DEPT_MHC-1P953-PROFEE INTRNL MED MD',\n",
       " 'DEPT_MHC-2 MIDWEST MEDICAL ICU',\n",
       " 'DEPT_MHC-2W PULMONARY PROGRESSIVE CARE',\n",
       " 'DEPT_MHC-3 SOUTH NEONATAL ICU',\n",
       " 'DEPT_MHC-3 WEST NEURO PROGRESSIVE CARE',\n",
       " 'DEPT_MHC-4 EAST CV SURGICAL PROGRESSIVE CARE',\n",
       " 'DEPT_MHC-4 N NEURO TRAUMA SURGICAL PROG CARE',\n",
       " 'DEPT_MHC-4 NORTH NEURO TRAUMA SURG ICU',\n",
       " 'DEPT_MHC-5 CENTRAL OBSERVATION',\n",
       " 'DEPT_MHC-5 NORTH ORTHOPEDICS',\n",
       " 'DEPT_MHC-6 NORTH SURGICAL',\n",
       " 'DEPT_MHC-6100 PEDIATRICS',\n",
       " 'DEPT_MHC-EMERGENCY DEPARTMENT',\n",
       " 'DEPT_MHC-FAMILY PRACTICE CENTER',\n",
       " 'DEPT_MHC-GI LAB ENDOSCOPY',\n",
       " 'DEPT_MHC-PEDS ED',\n",
       " 'DEPT_MHC-PICU PEDIATRIC ICU',\n",
       " 'DEPT_MHC-PROCEDURAL SHORT STAY CENT',\n",
       " 'DEPT_MWMC-HEALTHY WEIGHT AND WELLNESS',\n",
       " 'DEPT_SW-CLINICAL DIETICIANS',\n",
       " 'DEPT_SW-CONTRACT PHARMACY',\n",
       " 'DEPT_SW-EMP PHARMACY WESLEY LONG',\n",
       " 'DEPT_SW-EMPLOYEE PHARMACY',\n",
       " 'DEPT_SW-EMPLOYEE WELLNESS',\n",
       " 'DEPT_SW-FLEXIBLE RESOURCES',\n",
       " 'DEPT_SW-HEALTH INFORMATION MGMT',\n",
       " 'DEPT_SW-ITS-ADMIN BUSINESS IS',\n",
       " 'DEPT_SW-ITS-ADMINISTRATION',\n",
       " 'DEPT_SW-PRE-SERVICE CENTER',\n",
       " 'DEPT_SW-PT ACCT-CASH REFUND PRCESSG',\n",
       " 'DEPT_THNM-QUALITY INFORMATICS',\n",
       " 'DEPT_THNM-THN CM COMMUNITY',\n",
       " 'DEPT_THSP-TRIAD HOSPITALISTS',\n",
       " 'DEPT_WESTSIDE OB/GYN',\n",
       " 'DEPT_WHG-PHARMACY',\n",
       " 'DEPT_WHG-PHYSICAL THERAPY',\n",
       " 'DEPT_WLCH-5 EAST MEDICAL UNIT',\n",
       " 'DEPT_WLCH-CHCC-LAB',\n",
       " 'DEPT_WLCH-CHCC-MEDICAL ONCOLOGY',\n",
       " 'DEPT_WLCH-EMERGENCY ROOM',\n",
       " 'DEPT_WLCH-GENERAL SURGERY',\n",
       " 'DEPT_WLCH-ICU STEPDOWN',\n",
       " 'DEPT_WLCH-ONCOLOGY WEST',\n",
       " 'DEPT_WLCH-OPERATING ROOM',\n",
       " 'DEPT_WLCH-PERIOPERATIVE SERVICES',\n",
       " 'DEPT_WLCH-PHARMACY',\n",
       " 'DEPT_WRF-REIDSVILLE FAMILY MEDICINE',\n",
       " 'DEPT_missing']"
      ]
     },
     "execution_count": 39,
     "metadata": {},
     "output_type": "execute_result"
    }
   ],
   "source": [
    "cols"
   ]
  },
  {
   "cell_type": "code",
   "execution_count": 40,
   "metadata": {},
   "outputs": [],
   "source": [
    "df_from_array_pipeline = pd.DataFrame(X_values.toarray(), columns = cols)"
   ]
  },
  {
   "cell_type": "code",
   "execution_count": 41,
   "metadata": {},
   "outputs": [],
   "source": [
    "feature_importance = pd.Series(data= pipeline.named_steps['classifier'].feature_importances_, index = np.array(cols))"
   ]
  },
  {
   "cell_type": "code",
   "execution_count": 42,
   "metadata": {},
   "outputs": [
    {
     "data": {
      "text/plain": [
       "NUM_PATIENTS                             0.113796\n",
       "CLICKS                                   0.121665\n",
       "AFTER_HOURS                              0.200033\n",
       "DEPT_AAA-ALLERGY AND ASTHMA GSO          0.000197\n",
       "DEPT_AAA-ALLERGY AND ASTHMA HIGH PT      0.001164\n",
       "DEPT_AAPC-ALAMANCE REG PAIN CLINIC       0.000678\n",
       "DEPT_AEC-EP REHAB 1ST FLOOR              0.000677\n",
       "DEPT_APH-PHYSICAL THERAPY                0.000062\n",
       "DEPT_APS-APC-CRISSMAN FAM PRAC           0.000214\n",
       "DEPT_APS-BURLINGTON FAMILY               0.000124\n",
       "DEPT_ARMC-ADLT BEHAV MED-LOWER           0.000032\n",
       "DEPT_ARMC-AMBULATORY SURGERY             0.000283\n",
       "DEPT_ARMC-CLINIC RESEARCH                0.000046\n",
       "DEPT_ARMC-CLINICAL LABORATORY            0.000027\n",
       "DEPT_ARMC-EMERGENCY ROOM                 0.000127\n",
       "DEPT_ARMC-GENSURGERY-2ND LEVEL           0.098065\n",
       "DEPT_ARMC-ICU CCU-2ND LEVEL              0.001646\n",
       "DEPT_ARMC-LABOR AND DELIVERY             0.000188\n",
       "DEPT_ARMC-MEBANE SURGERY CNTR            0.000246\n",
       "DEPT_ARMC-MOTHER-BABY 3RD LEVL           0.000125\n",
       "DEPT_ARMC-NEWBORN NRSY 3RD LVL           0.000700\n",
       "DEPT_ARMC-ORTHO REHAB 1ST LEVL           0.000018\n",
       "DEPT_ARMC-PHARMACY                       0.000568\n",
       "DEPT_ARMC-RADIOLOGY DIAGNOSTIC           0.000056\n",
       "DEPT_ARMC-URGENT CR MEBANE ASC           0.000348\n",
       "DEPT_AVS-ALAMANCE VEIN VASC SURGERY      0.000131\n",
       "DEPT_BH ASSESSMENT SERVICES              0.000114\n",
       "DEPT_BH-IP ADULT SERVICES                0.000522\n",
       "DEPT_BH-PHYSICIAN SERVICES               0.000207\n",
       "DEPT_CHMG-HIM                            0.001484\n",
       "                                           ...   \n",
       "DEPT_MWMC-HEALTHY WEIGHT AND WELLNESS    0.000508\n",
       "DEPT_SW-CLINICAL DIETICIANS              0.000375\n",
       "DEPT_SW-CONTRACT PHARMACY                0.000550\n",
       "DEPT_SW-EMP PHARMACY WESLEY LONG         0.000117\n",
       "DEPT_SW-EMPLOYEE PHARMACY                0.000025\n",
       "DEPT_SW-EMPLOYEE WELLNESS                0.000086\n",
       "DEPT_SW-FLEXIBLE RESOURCES               0.000000\n",
       "DEPT_SW-HEALTH INFORMATION MGMT          0.000684\n",
       "DEPT_SW-ITS-ADMIN BUSINESS IS            0.000245\n",
       "DEPT_SW-ITS-ADMINISTRATION               0.000284\n",
       "DEPT_SW-PRE-SERVICE CENTER               0.000579\n",
       "DEPT_SW-PT ACCT-CASH REFUND PRCESSG      0.000194\n",
       "DEPT_THNM-QUALITY INFORMATICS            0.000567\n",
       "DEPT_THNM-THN CM COMMUNITY               0.000034\n",
       "DEPT_THSP-TRIAD HOSPITALISTS             0.000042\n",
       "DEPT_WESTSIDE OB/GYN                     0.000090\n",
       "DEPT_WHG-PHARMACY                        0.000036\n",
       "DEPT_WHG-PHYSICAL THERAPY                0.000061\n",
       "DEPT_WLCH-5 EAST MEDICAL UNIT            0.000179\n",
       "DEPT_WLCH-CHCC-LAB                       0.000384\n",
       "DEPT_WLCH-CHCC-MEDICAL ONCOLOGY          0.000235\n",
       "DEPT_WLCH-EMERGENCY ROOM                 0.000243\n",
       "DEPT_WLCH-GENERAL SURGERY                0.000087\n",
       "DEPT_WLCH-ICU STEPDOWN                   0.000599\n",
       "DEPT_WLCH-ONCOLOGY WEST                  0.000124\n",
       "DEPT_WLCH-OPERATING ROOM                 0.000100\n",
       "DEPT_WLCH-PERIOPERATIVE SERVICES         0.001972\n",
       "DEPT_WLCH-PHARMACY                       0.000135\n",
       "DEPT_WRF-REIDSVILLE FAMILY MEDICINE      0.000091\n",
       "DEPT_missing                             0.040092\n",
       "Length: 109, dtype: float64"
      ]
     },
     "execution_count": 42,
     "metadata": {},
     "output_type": "execute_result"
    }
   ],
   "source": [
    "feature_importance"
   ]
  },
  {
   "cell_type": "code",
   "execution_count": null,
   "metadata": {},
   "outputs": [],
   "source": []
  }
 ],
 "metadata": {
  "kernelspec": {
   "display_name": "Python 3",
   "language": "python",
   "name": "python3"
  },
  "language_info": {
   "codemirror_mode": {
    "name": "ipython",
    "version": 3
   },
   "file_extension": ".py",
   "mimetype": "text/x-python",
   "name": "python",
   "nbconvert_exporter": "python",
   "pygments_lexer": "ipython3",
   "version": "3.7.7"
  }
 },
 "nbformat": 4,
 "nbformat_minor": 4
}
